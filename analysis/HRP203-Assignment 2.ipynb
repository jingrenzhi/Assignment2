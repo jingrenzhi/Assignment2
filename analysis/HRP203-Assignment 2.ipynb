{
 "cells": [
  {
   "cell_type": "code",
   "execution_count": 62,
   "id": "312e3496-702e-4446-bf71-f4f0605c2849",
   "metadata": {},
   "outputs": [],
   "source": [
    "library(dplyr)\n",
    "library(ggplot2)\n",
    "library(corrplot)\n",
    "library(ggcorrplot)"
   ]
  },
  {
   "cell_type": "markdown",
   "id": "fe299820-80b7-4b65-a5f8-7e909f6073ac",
   "metadata": {},
   "source": [
    "#### read data "
   ]
  },
  {
   "cell_type": "code",
   "execution_count": 3,
   "id": "0cb2745f-0741-4cb7-ac69-894e4167667e",
   "metadata": {},
   "outputs": [],
   "source": [
    "cohort_df = read.csv('~/Downloads/raw-data/cohort.csv')"
   ]
  },
  {
   "cell_type": "code",
   "execution_count": 4,
   "id": "49099415-9d24-41de-8743-6cc99012cf17",
   "metadata": {},
   "outputs": [
    {
     "data": {
      "text/html": [
       "<table class=\"dataframe\">\n",
       "<caption>A data.frame: 6 × 5</caption>\n",
       "<thead>\n",
       "\t<tr><th></th><th scope=col>smoke</th><th scope=col>female</th><th scope=col>age</th><th scope=col>cardiac</th><th scope=col>cost</th></tr>\n",
       "\t<tr><th></th><th scope=col>&lt;int&gt;</th><th scope=col>&lt;int&gt;</th><th scope=col>&lt;int&gt;</th><th scope=col>&lt;int&gt;</th><th scope=col>&lt;int&gt;</th></tr>\n",
       "</thead>\n",
       "<tbody>\n",
       "\t<tr><th scope=row>1</th><td>0</td><td>1</td><td>48</td><td>0</td><td>9273</td></tr>\n",
       "\t<tr><th scope=row>2</th><td>0</td><td>1</td><td>39</td><td>0</td><td>8636</td></tr>\n",
       "\t<tr><th scope=row>3</th><td>0</td><td>1</td><td>46</td><td>0</td><td>8974</td></tr>\n",
       "\t<tr><th scope=row>4</th><td>0</td><td>0</td><td>43</td><td>0</td><td>9242</td></tr>\n",
       "\t<tr><th scope=row>5</th><td>0</td><td>1</td><td>25</td><td>0</td><td>8404</td></tr>\n",
       "\t<tr><th scope=row>6</th><td>0</td><td>0</td><td>38</td><td>0</td><td>9239</td></tr>\n",
       "</tbody>\n",
       "</table>\n"
      ],
      "text/latex": [
       "A data.frame: 6 × 5\n",
       "\\begin{tabular}{r|lllll}\n",
       "  & smoke & female & age & cardiac & cost\\\\\n",
       "  & <int> & <int> & <int> & <int> & <int>\\\\\n",
       "\\hline\n",
       "\t1 & 0 & 1 & 48 & 0 & 9273\\\\\n",
       "\t2 & 0 & 1 & 39 & 0 & 8636\\\\\n",
       "\t3 & 0 & 1 & 46 & 0 & 8974\\\\\n",
       "\t4 & 0 & 0 & 43 & 0 & 9242\\\\\n",
       "\t5 & 0 & 1 & 25 & 0 & 8404\\\\\n",
       "\t6 & 0 & 0 & 38 & 0 & 9239\\\\\n",
       "\\end{tabular}\n"
      ],
      "text/markdown": [
       "\n",
       "A data.frame: 6 × 5\n",
       "\n",
       "| <!--/--> | smoke &lt;int&gt; | female &lt;int&gt; | age &lt;int&gt; | cardiac &lt;int&gt; | cost &lt;int&gt; |\n",
       "|---|---|---|---|---|---|\n",
       "| 1 | 0 | 1 | 48 | 0 | 9273 |\n",
       "| 2 | 0 | 1 | 39 | 0 | 8636 |\n",
       "| 3 | 0 | 1 | 46 | 0 | 8974 |\n",
       "| 4 | 0 | 0 | 43 | 0 | 9242 |\n",
       "| 5 | 0 | 1 | 25 | 0 | 8404 |\n",
       "| 6 | 0 | 0 | 38 | 0 | 9239 |\n",
       "\n"
      ],
      "text/plain": [
       "  smoke female age cardiac cost\n",
       "1 0     1      48  0       9273\n",
       "2 0     1      39  0       8636\n",
       "3 0     1      46  0       8974\n",
       "4 0     0      43  0       9242\n",
       "5 0     1      25  0       8404\n",
       "6 0     0      38  0       9239"
      ]
     },
     "metadata": {},
     "output_type": "display_data"
    }
   ],
   "source": [
    "head(cohort_df)"
   ]
  },
  {
   "cell_type": "markdown",
   "id": "92f5fdc1-21f8-47fb-bb89-810f55b8a587",
   "metadata": {},
   "source": [
    "#### summarize variable data types, distributions, and statistics"
   ]
  },
  {
   "cell_type": "code",
   "execution_count": 18,
   "id": "a50fdcbe-6524-467d-8194-d553b55a3294",
   "metadata": {},
   "outputs": [
    {
     "data": {
      "text/plain": [
       "\n",
       "   0    1 \n",
       "4211  789 "
      ]
     },
     "metadata": {},
     "output_type": "display_data"
    }
   ],
   "source": [
    "# variable 'smoke' is a binary variable with values 0 and 1\n",
    "table(cohort_df$smoke) "
   ]
  },
  {
   "cell_type": "code",
   "execution_count": 19,
   "id": "8d941c5b-2ccd-4b40-836f-115dd07849ec",
   "metadata": {},
   "outputs": [
    {
     "data": {
      "text/plain": [
       "\n",
       "   0    1 \n",
       "2226 2774 "
      ]
     },
     "metadata": {},
     "output_type": "display_data"
    }
   ],
   "source": [
    "# variable 'female' is a binary variable with values 0 and 1\n",
    "table(cohort_df$female)"
   ]
  },
  {
   "cell_type": "code",
   "execution_count": 21,
   "id": "ee8329f4-d2a5-48c2-b432-2de92729ce00",
   "metadata": {},
   "outputs": [
    {
     "data": {
      "text/plain": [
       "   Min. 1st Qu.  Median    Mean 3rd Qu.    Max. \n",
       "  18.00   31.00   44.00   43.94   57.00   70.00 "
      ]
     },
     "metadata": {},
     "output_type": "display_data"
    }
   ],
   "source": [
    "# variable 'age' is a numerical variable with values ranging from 18 to 70\n",
    "summary(cohort_df$age)"
   ]
  },
  {
   "cell_type": "code",
   "execution_count": 22,
   "id": "aaa47680-53dd-42bd-844e-927d971387c1",
   "metadata": {},
   "outputs": [
    {
     "data": {
      "text/plain": [
       "\n",
       "   0    1 \n",
       "4750  250 "
      ]
     },
     "metadata": {},
     "output_type": "display_data"
    }
   ],
   "source": [
    "# variable 'cardiac' is a binary variable with values 0 and 1\n",
    "table(cohort_df$cardiac)"
   ]
  },
  {
   "cell_type": "code",
   "execution_count": 20,
   "id": "4d568ad5-9715-43c8-9cf3-571e9f711123",
   "metadata": {},
   "outputs": [
    {
     "data": {
      "text/plain": [
       "   Min. 1st Qu.  Median    Mean 3rd Qu.    Max. \n",
       "   7878    8874    9143    9166    9426   10790 "
      ]
     },
     "metadata": {},
     "output_type": "display_data"
    }
   ],
   "source": [
    "# variable 'cost' is a numerical variable with values ranging from 7878 to 10790\n",
    "summary(cohort_df$cost)"
   ]
  },
  {
   "cell_type": "code",
   "execution_count": 88,
   "id": "a3415006-4c85-4fa2-b236-9169f299aa01",
   "metadata": {},
   "outputs": [
    {
     "data": {
      "text/html": [
       "<table class=\"dataframe\">\n",
       "<caption>A data.frame: 6 × 5</caption>\n",
       "<thead>\n",
       "\t<tr><th></th><th scope=col>smoke</th><th scope=col>female</th><th scope=col>age</th><th scope=col>cardiac</th><th scope=col>cost</th></tr>\n",
       "\t<tr><th></th><th scope=col>&lt;int&gt;</th><th scope=col>&lt;int&gt;</th><th scope=col>&lt;int&gt;</th><th scope=col>&lt;int&gt;</th><th scope=col>&lt;int&gt;</th></tr>\n",
       "</thead>\n",
       "<tbody>\n",
       "\t<tr><th scope=row>1</th><td>0</td><td>1</td><td>48</td><td>0</td><td>9273</td></tr>\n",
       "\t<tr><th scope=row>2</th><td>0</td><td>1</td><td>39</td><td>0</td><td>8636</td></tr>\n",
       "\t<tr><th scope=row>3</th><td>0</td><td>1</td><td>46</td><td>0</td><td>8974</td></tr>\n",
       "\t<tr><th scope=row>4</th><td>0</td><td>0</td><td>43</td><td>0</td><td>9242</td></tr>\n",
       "\t<tr><th scope=row>5</th><td>0</td><td>1</td><td>25</td><td>0</td><td>8404</td></tr>\n",
       "\t<tr><th scope=row>6</th><td>0</td><td>0</td><td>38</td><td>0</td><td>9239</td></tr>\n",
       "</tbody>\n",
       "</table>\n"
      ],
      "text/latex": [
       "A data.frame: 6 × 5\n",
       "\\begin{tabular}{r|lllll}\n",
       "  & smoke & female & age & cardiac & cost\\\\\n",
       "  & <int> & <int> & <int> & <int> & <int>\\\\\n",
       "\\hline\n",
       "\t1 & 0 & 1 & 48 & 0 & 9273\\\\\n",
       "\t2 & 0 & 1 & 39 & 0 & 8636\\\\\n",
       "\t3 & 0 & 1 & 46 & 0 & 8974\\\\\n",
       "\t4 & 0 & 0 & 43 & 0 & 9242\\\\\n",
       "\t5 & 0 & 1 & 25 & 0 & 8404\\\\\n",
       "\t6 & 0 & 0 & 38 & 0 & 9239\\\\\n",
       "\\end{tabular}\n"
      ],
      "text/markdown": [
       "\n",
       "A data.frame: 6 × 5\n",
       "\n",
       "| <!--/--> | smoke &lt;int&gt; | female &lt;int&gt; | age &lt;int&gt; | cardiac &lt;int&gt; | cost &lt;int&gt; |\n",
       "|---|---|---|---|---|---|\n",
       "| 1 | 0 | 1 | 48 | 0 | 9273 |\n",
       "| 2 | 0 | 1 | 39 | 0 | 8636 |\n",
       "| 3 | 0 | 1 | 46 | 0 | 8974 |\n",
       "| 4 | 0 | 0 | 43 | 0 | 9242 |\n",
       "| 5 | 0 | 1 | 25 | 0 | 8404 |\n",
       "| 6 | 0 | 0 | 38 | 0 | 9239 |\n",
       "\n"
      ],
      "text/plain": [
       "  smoke female age cardiac cost\n",
       "1 0     1      48  0       9273\n",
       "2 0     1      39  0       8636\n",
       "3 0     1      46  0       8974\n",
       "4 0     0      43  0       9242\n",
       "5 0     1      25  0       8404\n",
       "6 0     0      38  0       9239"
      ]
     },
     "metadata": {},
     "output_type": "display_data"
    }
   ],
   "source": [
    "head(cohort_df)"
   ]
  },
  {
   "cell_type": "markdown",
   "id": "9c815882-e8bd-4159-9108-d87ac3ba20ae",
   "metadata": {},
   "source": [
    "#### Examine the correlation between variables\n"
   ]
  },
  {
   "cell_type": "code",
   "execution_count": 105,
   "id": "582b48fa-7690-452d-8126-640253341b35",
   "metadata": {},
   "outputs": [
    {
     "data": {
      "image/png": "[encoded data removed]",
      "text/plain": [
       "Plot with title “”"
      ]
     },
     "metadata": {
      "image/png": {
       "height": 420,
       "width": 420
      }
     },
     "output_type": "display_data"
    }
   ],
   "source": [
    "cor_matrix <- cor(cohort_df)\n",
    "corrplot(cor_matrix, \n",
    "         method = \"color\",    \n",
    "         type = \"upper\",       \n",
    "         col = colorRampPalette(c(\"blue\", \"white\", \"red\"))(200),\n",
    "         tl.cex = 1.5,  \n",
    "         number.cex = 1,\n",
    "         tl.col = \"black\")  "
   ]
  },
  {
   "cell_type": "markdown",
   "id": "cb0364ac-8015-40d6-8506-2480893ab5f0",
   "metadata": {},
   "source": [
    "#### Analysis"
   ]
  },
  {
   "cell_type": "code",
   "execution_count": 53,
   "id": "8ae950f5-5f2e-4f6c-ae3b-ba8979216f4a",
   "metadata": {},
   "outputs": [],
   "source": [
    "# build a model to predict the probability of cardiovascular disease based on multiple variables\n",
    "model <- glm(cardiac ~ smoke + female + age , data = cohort_df, family = binomial)"
   ]
  },
  {
   "cell_type": "code",
   "execution_count": 54,
   "id": "20f7ac7f-a774-4b7b-8f84-f10042fd5a9d",
   "metadata": {},
   "outputs": [
    {
     "data": {
      "text/plain": [
       "\n",
       "Call:\n",
       "glm(formula = cardiac ~ smoke + female + age, family = binomial, \n",
       "    data = cohort_df)\n",
       "\n",
       "Deviance Residuals: \n",
       "    Min       1Q   Median       3Q      Max  \n",
       "-0.9702  -0.3345  -0.1100  -0.0983   3.3032  \n",
       "\n",
       "Coefficients:\n",
       "             Estimate Std. Error z value Pr(>|z|)    \n",
       "(Intercept) -3.186602   0.236180 -13.492   <2e-16 ***\n",
       "smoke        2.111761   0.141071  14.969   <2e-16 ***\n",
       "female      -2.466895   0.203725 -12.109   <2e-16 ***\n",
       "age          0.008083   0.004676   1.729   0.0839 .  \n",
       "---\n",
       "Signif. codes:  0 ‘***’ 0.001 ‘**’ 0.01 ‘*’ 0.05 ‘.’ 0.1 ‘ ’ 1\n",
       "\n",
       "(Dispersion parameter for binomial family taken to be 1)\n",
       "\n",
       "    Null deviance: 1985.2  on 4999  degrees of freedom\n",
       "Residual deviance: 1547.2  on 4996  degrees of freedom\n",
       "AIC: 1555.2\n",
       "\n",
       "Number of Fisher Scoring iterations: 7\n"
      ]
     },
     "metadata": {},
     "output_type": "display_data"
    }
   ],
   "source": [
    "summary(model)"
   ]
  },
  {
   "cell_type": "code",
   "execution_count": 116,
   "id": "ae853373-1134-4a89-aa5a-8790dd74a2de",
   "metadata": {},
   "outputs": [
    {
     "data": {
      "text/html": [
       "8.2627792344367"
      ],
      "text/latex": [
       "8.2627792344367"
      ],
      "text/markdown": [
       "8.2627792344367"
      ],
      "text/plain": [
       "[1] 8.262779"
      ]
     },
     "metadata": {},
     "output_type": "display_data"
    },
    {
     "data": {
      "text/html": [
       "0.0848479031534758"
      ],
      "text/latex": [
       "0.0848479031534758"
      ],
      "text/markdown": [
       "0.0848479031534758"
      ],
      "text/plain": [
       "[1] 0.0848479"
      ]
     },
     "metadata": {},
     "output_type": "display_data"
    },
    {
     "data": {
      "text/html": [
       "1.00811575563963"
      ],
      "text/latex": [
       "1.00811575563963"
      ],
      "text/markdown": [
       "1.00811575563963"
      ],
      "text/plain": [
       "[1] 1.008116"
      ]
     },
     "metadata": {},
     "output_type": "display_data"
    }
   ],
   "source": [
    "# Compute odds based on regression results\n",
    "# For 'smoke': smoking increases the odds of cardiovascular disease by a factor of 8.263\n",
    "exp(2.111761) \n",
    "# For 'female': being a female decreases the odds of cardiovascular disease by a factor of 0.085\n",
    "exp(-2.466895) \n",
    "# For 'age': one unit increase in age increases the odds of cardiovascular disease by a factor of 1.008\n",
    "exp(0.008083) "
   ]
  },
  {
   "cell_type": "code",
   "execution_count": null,
   "id": "187aad05-fb79-4353-8177-567b4a10e727",
   "metadata": {},
   "outputs": [],
   "source": []
  }
 ],
 "metadata": {
  "kernelspec": {
   "display_name": "R",
   "language": "R",
   "name": "ir"
  },
  "language_info": {
   "codemirror_mode": "r",
   "file_extension": ".r",
   "mimetype": "text/x-r-source",
   "name": "R",
   "pygments_lexer": "r",
   "version": "4.2.3"
  }
 },
 "nbformat": 4,
 "nbformat_minor": 5
}
